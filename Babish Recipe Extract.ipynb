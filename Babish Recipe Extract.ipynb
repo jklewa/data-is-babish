{
 "cells": [
  {
   "cell_type": "markdown",
   "metadata": {},
   "source": [
    "# BWB Recipe Data Extraction"
   ]
  },
  {
   "cell_type": "markdown",
   "metadata": {},
   "source": [
    "## Setup"
   ]
  },
  {
   "cell_type": "code",
   "execution_count": 1,
   "metadata": {},
   "outputs": [],
   "source": [
    "import requests\n",
    "import bs4\n",
    "import re\n",
    "import json\n",
    "from functional import seq\n",
    "from collections import namedtuple\n",
    "from unicodedata import numeric\n",
    "from string import capwords\n",
    "from collections import namedtuple\n",
    "from fractions import Fraction"
   ]
  },
  {
   "cell_type": "markdown",
   "metadata": {},
   "source": [
    "## Sample data for validation"
   ]
  },
  {
   "cell_type": "code",
   "execution_count": 2,
   "metadata": {},
   "outputs": [],
   "source": [
    "raw_episode = requests.get('https://www.bingingwithbabish.com/recipes/parksandrecburger')"
   ]
  },
  {
   "cell_type": "code",
   "execution_count": 3,
   "metadata": {},
   "outputs": [],
   "source": [
    "soup = bs4.BeautifulSoup(raw_episode.content, 'html.parser')"
   ]
  },
  {
   "cell_type": "code",
   "execution_count": 4,
   "metadata": {},
   "outputs": [
    {
     "data": {
      "text/plain": [
       "'Parks & Rec Burger Cookoff — Binging With Babish'"
      ]
     },
     "execution_count": 4,
     "metadata": {},
     "output_type": "execute_result"
    }
   ],
   "source": [
    "soup.title.string"
   ]
  },
  {
   "cell_type": "code",
   "execution_count": 5,
   "metadata": {},
   "outputs": [],
   "source": [
    "recipe_locations = soup.find_all(['h1','h2','h3','h4','h5'], string='Ingredients')\n",
    "loc1 = recipe_locations[0]"
   ]
  },
  {
   "cell_type": "code",
   "execution_count": 6,
   "metadata": {},
   "outputs": [
    {
     "data": {
      "text/plain": [
       "\"Method: Chris Traeger's East Meets West Turkey Burger\""
      ]
     },
     "execution_count": 6,
     "metadata": {},
     "output_type": "execute_result"
    }
   ],
   "source": [
    "method = loc1.find_next(['h1','h2','h3','h4','h5']).string\n",
    "method"
   ]
  },
  {
   "cell_type": "markdown",
   "metadata": {},
   "source": [
    "## Parsing ingredients in recipes"
   ]
  },
  {
   "cell_type": "code",
   "execution_count": 7,
   "metadata": {
    "scrolled": true
   },
   "outputs": [
    {
     "data": {
      "text/html": [
       "<table>\n",
       "<thead>\n",
       "<tr><th style=\"text-align: right;\">     qty</th><th>unit  </th><th>name               </th><th>raw                      </th></tr>\n",
       "</thead>\n",
       "<tbody>\n",
       "<tr><td style=\"text-align: right;\">1       </td><td>small </td><td>Eggplant           </td><td>1 small eggplant         </td></tr>\n",
       "<tr><td style=\"text-align: right;\">        </td><td>      </td><td>Olive Oil          </td><td>Olive oil                </td></tr>\n",
       "<tr><td style=\"text-align: right;\">        </td><td>      </td><td>Kosher Salt        </td><td>Kosher salt              </td></tr>\n",
       "<tr><td style=\"text-align: right;\">        </td><td>      </td><td>Ground Black Pepper</td><td>Ground black pepper      </td></tr>\n",
       "<tr><td style=\"text-align: right;\">1       </td><td>large </td><td>Papaya             </td><td>1 large papaya           </td></tr>\n",
       "<tr><td style=\"text-align: right;\">0.333333</td><td>cup   </td><td>Apple Cider Vinegar</td><td>⅓ cup apple cider vinegar</td></tr>\n",
       "<tr><td style=\"text-align: right;\">0.333333</td><td>cup   </td><td>Golden Raisins     </td><td>⅓ cup golden raisins     </td></tr>\n",
       "<tr><td style=\"text-align: right;\">        </td><td>      </td><td>Saffron Threads    </td><td>Saffron threads          </td></tr>\n",
       "<tr><td style=\"text-align: right;\">4       </td><td>      </td><td>Egg Yolks          </td><td>4 egg yolks              </td></tr>\n",
       "<tr><td style=\"text-align: right;\">2       </td><td>      </td><td>Lemon              </td><td>2 squeezes of lemon      </td></tr>\n",
       "</tbody>\n",
       "</table><p>Showing 10 of 22 rows"
      ],
      "text/plain": [
       "[Ingredient(qty=1.0, unit='small', name='Eggplant', raw='1 small eggplant'), Ingredient(qty=None, unit=None, name='Olive Oil', raw='Olive oil'), Ingredient(qty=None, unit=None, name='Kosher Salt', raw='Kosher salt'), Ingredient(qty=None, unit=None, name='Ground Black Pepper', raw='Ground black pepper'), Ingredient(qty=1.0, unit='large', name='Papaya', raw='1 large papaya'), Ingredient(qty=0.3333333333333333, unit='cup', name='Apple Cider Vinegar', raw='⅓ cup apple cider vinegar'), Ingredient(qty=0.3333333333333333, unit='cup', name='Golden Raisins', raw='⅓ cup golden raisins'), Ingredient(qty=None, unit=None, name='Saffron Threads', raw='Saffron threads'), Ingredient(qty=4.0, unit=None, name='Egg Yolks', raw='4 egg yolks'), Ingredient(qty=2.0, unit=None, name='Lemon', raw='2 squeezes of lemon'), Ingredient(qty=0.25, unit='cup', name='Black Truffle Oil', raw='¼ cup black truffle oil'), Ingredient(qty=1.0, unit='cup', name='Canola Oil', raw='1 cup canola oil'), Ingredient(qty=3.0, unit='ounce', name='Fontina Cheese', raw='3 ounces fontina cheese'), Ingredient(qty=3.0, unit='ounce', name='Parmesan Cheese', raw='3 ounces parmesan cheese'), Ingredient(qty=3.0, unit='pound', name='Turkey Breast', raw='3 pounds turkey breast'), Ingredient(qty=2.0, unit='tablespoon', name='Soy Sauce', raw='2 Tbsp soy sauce'), Ingredient(qty=0.25, unit='teaspoon', name='Marmite', raw='¼ tsp marmite'), Ingredient(qty=1.0, unit='small', name='Anchovy Paste', raw='1 small squeeze of anchovy paste'), Ingredient(qty=2.0, unit='tablespoon', name='Safflower Oil', raw='2 Tbsp of safflower oil'), Ingredient(qty=None, unit=None, name='Radish Sprouts', raw='Radish sprouts'), Ingredient(qty=None, unit=None, name='Gluten Free Brioche Buns', raw='Gluten free brioche buns'), Ingredient(qty=None, unit=None, name='Silk Pad', raw='Silk pad')]"
      ]
     },
     "execution_count": 7,
     "metadata": {},
     "output_type": "execute_result"
    }
   ],
   "source": [
    "Ingredient = namedtuple('Ingredient', 'qty unit name raw')\n",
    "units_pattern = r'(?:(\\s?mg|g|kg|ml|L|oz|ounce|tbsp|Tbsp|tablespoon|tsp|teaspoon|cup|lb|pound|small|medium|large|whole|half)?(?:s|es)?\\.?\\b)'\n",
    "\n",
    "full_pattern = r'^(?:([-\\.\\/\\s0-9\\u2150-\\u215E\\u00BC-\\u00BE]+)?{UNITS_PATTERN})?(?:.*\\sof\\s)?\\s?(.+?)(?:,|$)'\\\n",
    "    .format(UNITS_PATTERN=units_pattern)\n",
    "    \n",
    "pattern = re.compile(full_pattern, flags=re.UNICODE)\n",
    "\n",
    "def normalize_qty(qty):\n",
    "    if qty is not None:\n",
    "        qty = qty.strip() # whitespace\n",
    "\n",
    "        if len(qty) == 1:\n",
    "            qty = numeric(qty)\n",
    "        else:\n",
    "            try:\n",
    "                if '/' in qty:\n",
    "                    # 2 1/2\n",
    "                    qty = float(sum(Fraction(s) for s in qty.split()))\n",
    "                elif qty[-1].isdigit():\n",
    "                    # normal number, ending in [0-9]\n",
    "                    qty = float(qty)\n",
    "                else:\n",
    "                    # Assume the last character is a vulgar fraction\n",
    "                    qty = float(qty[:-1]) + numeric(qty[-1])\n",
    "            except ValueError:\n",
    "                pass # let it be a string\n",
    "    return qty\n",
    "\n",
    "# https://en.wikipedia.org/wiki/Cooking_weights_and_measures#United_States_measures\n",
    "measures = {\n",
    "    'drop': {'abrv': 'dr gt gtt', 'oz':1.0/576},\n",
    "    'smidgen': {'abrv': 'smdg smi', 'oz': 1.0/256},\n",
    "    'pinch': {'abrv': 'pn', 'oz': 1.0/128},\n",
    "    'dash': {'abrv': 'ds', 'oz': 1.0/64},\n",
    "    'saltspoon': {'abrv': 'ssp scruple', 'oz': 1.0/32},\n",
    "    'coffeespoon': {'abrv': 'csp', 'oz': 1.0/16},\n",
    "    'dram': {'abrv': 'dr', 'oz': 1.0/8},\n",
    "    'teaspoon': {'abrv': 'tsp t', 'oz': 1.0/6},\n",
    "    'tablespoon': {'abrv': 'Tbsp T', 'oz': 1.0/2},\n",
    "    'ounce': {'abrv': 'oz fl.oz', 'oz': 1.0},\n",
    "    'wineglass': {'abrv': 'wgf', 'oz': 2.0},\n",
    "    'teacup': {'abrv': 'tcf gill', 'oz': 4.0},\n",
    "    'cup': {'abrv': 'C', 'oz': 8.0},\n",
    "    'pint': {'abrv': 'pt', 'oz': 16.0},\n",
    "    'quart': {'abrv': 'qt', 'oz': 32.0},\n",
    "    'pottle': {'abrv': 'pot', 'oz': 64.0},\n",
    "    'gallon': {'abrv': 'gal', 'oz': 128.0},\n",
    "    'pound': {'abrv': 'lbs', 'oz': 16.0},\n",
    "    'gram': {'abrv': 'g', 'oz': 0.035274},\n",
    "    'kilogram': {'abrv': 'kg', 'oz': 35.274},\n",
    "}\n",
    "\n",
    "def normalize_unit(unit):\n",
    "    if unit is not None:\n",
    "        for u, d in measures.items():\n",
    "            if unit.lower() == u:\n",
    "                return u\n",
    "            if unit in d['abrv'].split(' '):\n",
    "                return u\n",
    "    return unit\n",
    "\n",
    "def normalize_name(name):\n",
    "    return capwords(name)\\\n",
    "        .strip(' \\t\\n\\r,.')\\\n",
    "        .replace('Whole ', '')\\\n",
    "        .replace('Half ', '')\\\n",
    "        .replace('Hot ', '')\\\n",
    "        .replace('Warm ', '')\\\n",
    "        .replace('Cold ', '').strip()\n",
    "\n",
    "def parse_ingredient(i):\n",
    "    if type(i) is not str:\n",
    "        if i.string is None:\n",
    "            # multiple tags in child,\n",
    "            # bs4 gets confused per https://www.crummy.com/software/BeautifulSoup/bs4/doc/#string\n",
    "            s = ' '.join(i.stripped_strings)\n",
    "        else:\n",
    "            s = i.string.strip()\n",
    "    else:\n",
    "        s = i\n",
    "    raw = s.replace('\\xa0','').strip()\n",
    "    \n",
    "    clean = re.sub(r'\\(.+?\\)', '', raw).replace('’',\"'\")\n",
    "\n",
    "    parsed = pattern.match(clean)\n",
    "    if parsed:\n",
    "        qty, unit, name = parsed.groups()\n",
    "    else:\n",
    "        print(\"WARN: Unable to parse ingredient '{}'\".format(raw))\n",
    "        return Ingredient(None, None, None, raw)\n",
    "    \n",
    "    qty = normalize_qty(qty)\n",
    "            \n",
    "    unit = normalize_unit(unit)\n",
    "\n",
    "    name = normalize_name(name)\n",
    "\n",
    "    return Ingredient(qty, unit, name, raw)\n",
    "\n",
    "# Tests to validate parse_ingredient()!!!\n",
    "tests = [\n",
    "    'Bread', (None, None, 'Bread'),\n",
    "    '6 stalks celery', (6.0, None, 'Stalks Celery'),\n",
    "    '4 eggs', (4.0, None, 'Eggs'),\n",
    "    '2 ½ pounds of full fat cream cheese, cut', (2.5, 'pound', 'Full Fat Cream Cheese'),\n",
    "    '25 oreos, finely processed', (25.0, None, 'Oreos'),\n",
    "    '1-2 variable ingredients', ('1-2', None, 'Variable Ingredients'),\n",
    "    '2 1/2 things', (2.5, None, 'Things'),\n",
    "    '1/2 things', (0.5, None, 'Things'),\n",
    "    '1 large, long sourdough loaf', (1.0, 'large', 'Long Sourdough Loaf'),\n",
    "    '100ml Water', (100.0, 'ml', 'Water'),\n",
    "    '1L Water', (1.0, 'L', 'Water')\n",
    "]\n",
    "\n",
    "assert len(tests) % 2 == 0, 'A test is missing its expected output'\n",
    "\n",
    "for (i, v) in zip(tests[::2], tests[1::2]):\n",
    "    actual = parse_ingredient(i)\n",
    "    expected = Ingredient(*v, i)\n",
    "    assert actual == expected, \"parse_ingredient() incorrectly parsed '{}'\\nExpected:\\n{}\\nActual:\\n{}\".format(i, expected, actual)\n",
    "\n",
    "ingredients = seq(loc1.find_next_sibling(['ul','ol']).children)\\\n",
    "    .map(parse_ingredient)\n",
    "\n",
    "ingredients"
   ]
  },
  {
   "cell_type": "markdown",
   "metadata": {},
   "source": [
    "## Fetch the current list of BWB episodes"
   ]
  },
  {
   "cell_type": "code",
   "execution_count": 8,
   "metadata": {},
   "outputs": [],
   "source": [
    "raw_episode_list = requests.get('https://www.bingingwithbabish.com/recipes/')\n",
    "soup = bs4.BeautifulSoup(raw_episode_list.content, 'html5lib')"
   ]
  },
  {
   "cell_type": "code",
   "execution_count": 9,
   "metadata": {},
   "outputs": [
    {
     "data": {
      "text/plain": [
       "'Recipes — Binging With Babish'"
      ]
     },
     "execution_count": 9,
     "metadata": {},
     "output_type": "execute_result"
    }
   ],
   "source": [
    "soup.title.string.strip()"
   ]
  },
  {
   "cell_type": "code",
   "execution_count": 10,
   "metadata": {},
   "outputs": [],
   "source": [
    "episode_links = seq(soup.find('div', class_='recipe-row').select('.main-image-wrapper a'))\\\n",
    "    .map(lambda atag: atag.get('href'))"
   ]
  },
  {
   "cell_type": "code",
   "execution_count": 11,
   "metadata": {},
   "outputs": [
    {
     "data": {
      "text/plain": [
       "85"
      ]
     },
     "execution_count": 11,
     "metadata": {},
     "output_type": "execute_result"
    }
   ],
   "source": [
    "len(list(episode_links))"
   ]
  },
  {
   "cell_type": "markdown",
   "metadata": {},
   "source": [
    "## Cache episodes/recipes content locally"
   ]
  },
  {
   "cell_type": "code",
   "execution_count": 12,
   "metadata": {},
   "outputs": [],
   "source": [
    "import time\n",
    "import os\n",
    "\n",
    "for link in episode_links:\n",
    "    filename = 'tmp/raw-episodes/'+link.lstrip('/')\n",
    "    \n",
    "    if os.path.isfile(filename):\n",
    "        continue # skip, already cached\n",
    "\n",
    "    retries = 3\n",
    "    for t in range(retries):\n",
    "        r = requests.get('https://www.bingingwithbabish.com'+link)\n",
    "        if r.status_code == 200:\n",
    "            episodeHTML = r.content\n",
    "            os.makedirs(os.path.dirname(filename), exist_ok=True)\n",
    "            with open(filename, \"wb\") as f:\n",
    "                f.write(episodeHTML)\n",
    "            break # success\n",
    "        else:\n",
    "            print(\"WARN: {0} returned bad status code ({1})\").format(link, r.status_code)\n",
    "            time.sleep(10)\n",
    "    else:\n",
    "        print(\"ERROR: Too many retries on {0}\".format(link))\n",
    "    time.sleep(3)"
   ]
  },
  {
   "cell_type": "markdown",
   "metadata": {},
   "source": [
    "## Parse all episodes into babish.json"
   ]
  },
  {
   "cell_type": "code",
   "execution_count": 13,
   "metadata": {},
   "outputs": [],
   "source": [
    "episodes = []\n",
    "for link in episode_links:\n",
    "    path = 'tmp/raw-episodes/'+link.lstrip('/')\n",
    "    with open(path, 'rb') as f:\n",
    "        soup = bs4.BeautifulSoup(f, 'html.parser')\n",
    "\n",
    "    episode_name = soup.title.string.strip().replace(' — Binging With Babish','')\n",
    "    \n",
    "    youtube_link = json.loads(soup.find('div', class_='video-block')['data-block-json'])['url']\n",
    "    \n",
    "    ep = {\n",
    "        'episode_name': episode_name,\n",
    "        'episode_link': 'https://www.bingingwithbabish.com'+link,\n",
    "        'youtube_link': youtube_link,\n",
    "        'recipes': []\n",
    "    }\n",
    "\n",
    "    recipe_locations = soup.find_all(['h1','h2','h3','h4','h5'], string=re.compile('Ingredients'))\n",
    "    \n",
    "    for loc in recipe_locations:\n",
    "        method = loc.find_next(['h1','h2','h3','h4','h5'])\n",
    "        if method:\n",
    "            method = method.string.strip()\n",
    "        else:\n",
    "            method = 'Default - {}'.format(episode_name)\n",
    "\n",
    "        ingredients = list(loc.find_next_sibling(['ul','ol']).children)\n",
    "        \n",
    "        if len(ingredients) > 0:\n",
    "            ingredients = list(seq(ingredients).map(parse_ingredient))\n",
    "        else:\n",
    "            print(\"WARN: Could not location ingredients for {0} (Episode {1})\".format(method, episode_name))\n",
    "            \n",
    "        recipe = {\n",
    "            'method': method,\n",
    "            'ingredients': ingredients,\n",
    "        }\n",
    "        \n",
    "        ep['recipes'].append(recipe)\n",
    "    \n",
    "    episodes.append(ep)"
   ]
  },
  {
   "cell_type": "code",
   "execution_count": 14,
   "metadata": {},
   "outputs": [],
   "source": [
    "with open('babish.json', 'w') as f:\n",
    "    json.dump(episodes, f, indent=2)"
   ]
  },
  {
   "cell_type": "markdown",
   "metadata": {},
   "source": [
    "## Parse a single episode"
   ]
  },
  {
   "cell_type": "code",
   "execution_count": 15,
   "metadata": {
    "scrolled": true
   },
   "outputs": [
    {
     "data": {
      "text/plain": [
       "{'episode_link': 'https://www.bingingwithbabish.com/recipes/2017/2/20/il-timpano-inspired-by-big-night',\n",
       " 'episode_name': 'Il Timpano inspired by Big Night',\n",
       " 'recipes': [{'ingredients': [Ingredient(qty=1.0, unit='pound', name='Ground Chuck', raw='1 pound ground chuck'),\n",
       "    Ingredient(qty=0.5, unit='pound', name='Ground Short Rib', raw='1/2 pound ground short rib'),\n",
       "    Ingredient(qty=1.0, unit='pound', name='Ground Pork', raw='1 pound ground pork'),\n",
       "    Ingredient(qty=1.0, unit='pound', name='Ground Veal', raw='1 pound ground veal'),\n",
       "    Ingredient(qty=3.0, unit='ounce', name='Torn Italian Bread', raw='3 ounces torn Italian bread'),\n",
       "    Ingredient(qty=0.5, unit='cup', name='Buttermilk', raw='1/2 cup buttermilk, plus more as needed'),\n",
       "    Ingredient(qty=1.0, unit='medium', name='Onion', raw='1 medium onion, minced'),\n",
       "    Ingredient(qty=4.0, unit=None, name='Cloves Garlic', raw='4 cloves garlic, finely minced'),\n",
       "    Ingredient(qty=4.0, unit='ounce', name='Parmesan Cheese', raw='4 ounces parmesan cheese, grated'),\n",
       "    Ingredient(qty=0.5, unit='cup', name='Loosely Packed Fresh Parsley Leaves', raw='1/2 cup loosely packed fresh parsley leaves, minced'),\n",
       "    Ingredient(qty=0.5, unit='tablespoon', name='Kosher Salt', raw='1/2 tablespoon kosher salt'),\n",
       "    Ingredient(qty=0.25, unit='tablespoon', name='Freshly Ground Black Pepper', raw='1/4 tablespoon freshly ground black pepper'),\n",
       "    Ingredient(qty=4.0, unit='ounce', name='Fatty Pancetta', raw='4 ounces fatty pancetta, finely minced'),\n",
       "    Ingredient(qty=4.0, unit='large', name='Egg Yolks', raw='4 large egg yolks'),\n",
       "    Ingredient(qty=1.0, unit='tablespoon', name='Fresh Minced Oregano', raw='1 tablespoon fresh minced oregano'),\n",
       "    Ingredient(qty=0.5, unit='cup', name='Homemade Veal Demi Glace', raw='1/2 cup homemade veal demi glace (or chicken stock with 4 packets unflavored gelatin)'),\n",
       "    Ingredient(qty=3.0, unit='tablespoon', name='Leaf Lard', raw='3 tablespoons leaf lard')],\n",
       "   'method': 'Method: Meatballs'},\n",
       "  {'ingredients': [Ingredient(qty=10.0, unit='ounce', name='Tipo 00 Flour', raw='10 ounces tipo 00 flour (or all-purpose), plus more for dusting'),\n",
       "    Ingredient(qty=2.0, unit='large', name='Eggs Plus 4 Egg Yolks', raw='2 large eggs plus 4 egg yolks'),\n",
       "    Ingredient(qty=1.0, unit='teaspoon', name='Kosher Salt', raw='1 teaspoon kosher salt')],\n",
       "   'method': 'Method: Garganelli'},\n",
       "  {'ingredients': [Ingredient(qty=15.0, unit='ounce', name='Tipo 00 Flour', raw='15 ounces tipo 00 flour'),\n",
       "    Ingredient(qty=2.0, unit='whole', name='Eggs Plus 6 Egg Yolks', raw='2 whole eggs plus 6 egg yolks'),\n",
       "    Ingredient(qty=4.0, unit='tablespoon', name='Olive Oil', raw='4 tablespoons olive oil, divided'),\n",
       "    Ingredient(qty=2.0, unit='teaspoon', name='Kosher Salt', raw='2 teaspoons kosher salt'),\n",
       "    Ingredient(qty=2.0, unit='tablespoon', name='Butter', raw='2 tablespoons butter'),\n",
       "    Ingredient(qty=1.0, unit='pound', name='Genoa Salami', raw='1 pound genoa salami, sliced into 1/2” rounds'),\n",
       "    Ingredient(qty=0.5, unit='pound', name='Grated Aged Provolone', raw='1/2 pound grated aged provolone'),\n",
       "    Ingredient(qty=1.0, unit='pound', name='Low-moisture Mozzarella', raw='1 pound low-moisture mozzarella, cut into 1” cubes'),\n",
       "    Ingredient(qty=12.0, unit=None, name='Hard-boiled Eggs', raw='12 hard-boiled eggs, sliced in half'),\n",
       "    Ingredient(qty=1.0, unit=None, name='Recipe Italian Red Sauce', raw='1 recipe Italian red sauce (see Prison Sauce )'),\n",
       "    Ingredient(qty=24.0, unit=None, name='Meatballs', raw='24 meatballs (see above)'),\n",
       "    Ingredient(qty=1.0, unit=None, name='Recipe Garganelli', raw='1 recipe garganelli (see above), par boiled until very al dente, tossed with enough sauce to prevent sticking'),\n",
       "    Ingredient(qty=None, unit=None, name='Nutmeg', raw='Whole nutmeg')],\n",
       "   'method': 'Method: Timpano'}],\n",
       " 'youtube_link': 'https://www.youtube.com/watch?v=PIsIE0oHGgo'}"
      ]
     },
     "execution_count": 15,
     "metadata": {},
     "output_type": "execute_result"
    }
   ],
   "source": [
    "link = '/recipes/2017/2/20/il-timpano-inspired-by-big-night'\n",
    "path = 'tmp/raw-episodes/'+link.lstrip('/')\n",
    "with open(path, 'rb') as f:\n",
    "    soup = bs4.BeautifulSoup(f, 'html.parser')\n",
    "\n",
    "episode_name = soup.title.string.strip().replace(' — Binging With Babish','')\n",
    "\n",
    "youtube_link = json.loads(soup.find('div', class_='video-block')['data-block-json'])['url']\n",
    "\n",
    "ep = {\n",
    "    'episode_name': episode_name,\n",
    "    'episode_link': 'https://www.bingingwithbabish.com'+link,\n",
    "    'youtube_link': youtube_link,\n",
    "    'recipes': []\n",
    "}\n",
    "\n",
    "recipe_locations = soup.find_all(['h1','h2','h3','h4','h5'], string=re.compile('Ingredients'))\n",
    "\n",
    "for loc in recipe_locations:\n",
    "    method = loc.find_next(['h1','h2','h3','h4','h5'])\n",
    "    if method:\n",
    "        method = method.string.strip()\n",
    "    else:\n",
    "        method = 'Default - {}'.format(episode_name)\n",
    "\n",
    "    ingredients = list(loc.find_next_sibling(['ul','ol']).children)\n",
    "\n",
    "    if len(ingredients) > 0:\n",
    "        ingredients = list(seq(ingredients).map(parse_ingredient))\n",
    "    else:\n",
    "        print(\"WARN: Could not location ingredients for {0} (Episode {1})\".format(method, episode_name))\n",
    "\n",
    "    recipe = {\n",
    "        'method': method,\n",
    "        'ingredients': ingredients,\n",
    "    }\n",
    "\n",
    "    ep['recipes'].append(recipe)\n",
    "    \n",
    "ep"
   ]
  },
  {
   "cell_type": "code",
   "execution_count": null,
   "metadata": {},
   "outputs": [],
   "source": []
  },
  {
   "cell_type": "code",
   "execution_count": null,
   "metadata": {},
   "outputs": [],
   "source": []
  }
 ],
 "metadata": {
  "kernelspec": {
   "display_name": "Python 3",
   "language": "python",
   "name": "python3"
  },
  "language_info": {
   "codemirror_mode": {
    "name": "ipython",
    "version": 3
   },
   "file_extension": ".py",
   "mimetype": "text/x-python",
   "name": "python",
   "nbconvert_exporter": "python",
   "pygments_lexer": "ipython3",
   "version": "3.6.4"
  }
 },
 "nbformat": 4,
 "nbformat_minor": 2
}
